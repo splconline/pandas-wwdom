{
 "cells": [
  {
   "cell_type": "code",
   "execution_count": 1,
   "id": "aa2644fb",
   "metadata": {},
   "outputs": [
    {
     "data": {
      "text/html": [
       "<div>\n",
       "<style scoped>\n",
       "    .dataframe tbody tr th:only-of-type {\n",
       "        vertical-align: middle;\n",
       "    }\n",
       "\n",
       "    .dataframe tbody tr th {\n",
       "        vertical-align: top;\n",
       "    }\n",
       "\n",
       "    .dataframe thead th {\n",
       "        text-align: right;\n",
       "    }\n",
       "</style>\n",
       "<table border=\"1\" class=\"dataframe\">\n",
       "  <thead>\n",
       "    <tr style=\"text-align: right;\">\n",
       "      <th></th>\n",
       "      <th>invoice</th>\n",
       "      <th>company</th>\n",
       "      <th>purchase_date</th>\n",
       "      <th>product</th>\n",
       "      <th>quantity</th>\n",
       "      <th>price</th>\n",
       "      <th>extended amount</th>\n",
       "    </tr>\n",
       "  </thead>\n",
       "  <tbody>\n",
       "    <tr>\n",
       "      <th>0</th>\n",
       "      <td>ZN-870-29</td>\n",
       "      <td>Realcube</td>\n",
       "      <td>2019-03-05</td>\n",
       "      <td>shirt</td>\n",
       "      <td>19</td>\n",
       "      <td>17</td>\n",
       "      <td>323</td>\n",
       "    </tr>\n",
       "    <tr>\n",
       "      <th>1</th>\n",
       "      <td>JQ-501-63</td>\n",
       "      <td>Zooxo</td>\n",
       "      <td>2019-07-09</td>\n",
       "      <td>book</td>\n",
       "      <td>30</td>\n",
       "      <td>14</td>\n",
       "      <td>420</td>\n",
       "    </tr>\n",
       "    <tr>\n",
       "      <th>2</th>\n",
       "      <td>FI-165-58</td>\n",
       "      <td>Dabtype</td>\n",
       "      <td>2019-08-12</td>\n",
       "      <td>poster</td>\n",
       "      <td>7</td>\n",
       "      <td>23</td>\n",
       "      <td>161</td>\n",
       "    </tr>\n",
       "    <tr>\n",
       "      <th>3</th>\n",
       "      <td>XP-005-55</td>\n",
       "      <td>Skipfire</td>\n",
       "      <td>2019-11-18</td>\n",
       "      <td>pen</td>\n",
       "      <td>7</td>\n",
       "      <td>29</td>\n",
       "      <td>203</td>\n",
       "    </tr>\n",
       "    <tr>\n",
       "      <th>4</th>\n",
       "      <td>NB-917-18</td>\n",
       "      <td>Bluezoom</td>\n",
       "      <td>2019-04-18</td>\n",
       "      <td>poster</td>\n",
       "      <td>36</td>\n",
       "      <td>19</td>\n",
       "      <td>684</td>\n",
       "    </tr>\n",
       "  </tbody>\n",
       "</table>\n",
       "</div>"
      ],
      "text/plain": [
       "     invoice   company purchase_date product  quantity  price  extended amount\n",
       "0  ZN-870-29  Realcube    2019-03-05   shirt        19     17              323\n",
       "1  JQ-501-63     Zooxo    2019-07-09    book        30     14              420\n",
       "2  FI-165-58   Dabtype    2019-08-12  poster         7     23              161\n",
       "3  XP-005-55  Skipfire    2019-11-18     pen         7     29              203\n",
       "4  NB-917-18  Bluezoom    2019-04-18  poster        36     19              684"
      ]
     },
     "execution_count": 1,
     "metadata": {},
     "output_type": "execute_result"
    }
   ],
   "source": [
    "import pandas as pd\n",
    "import openpyxl\n",
    "from pathlib import Path\n",
    "input_file = Path.cwd()/'data'/'raw'/'sample_sales.xlsx'\n",
    "df = pd.read_excel(input_file,engine='openpyxl')\n",
    "df.head()"
   ]
  },
  {
   "cell_type": "markdown",
   "id": "4e328099",
   "metadata": {},
   "source": [
    "## Aggregation"
   ]
  },
  {
   "cell_type": "markdown",
   "id": "bd384092",
   "metadata": {},
   "source": [
    "Simple aggregation"
   ]
  },
  {
   "cell_type": "code",
   "execution_count": 2,
   "id": "13309b06",
   "metadata": {},
   "outputs": [
    {
     "data": {
      "text/plain": [
       "mean    22.816\n",
       "Name: price, dtype: float64"
      ]
     },
     "execution_count": 2,
     "metadata": {},
     "output_type": "execute_result"
    }
   ],
   "source": [
    "df['price'].agg(['mean'])"
   ]
  },
  {
   "cell_type": "markdown",
   "id": "9b555e42",
   "metadata": {},
   "source": [
    "Adding aggregations"
   ]
  },
  {
   "cell_type": "code",
   "execution_count": 3,
   "id": "6a6ef1b0",
   "metadata": {},
   "outputs": [
    {
     "data": {
      "text/plain": [
       "mean    22.816000\n",
       "std      7.537039\n",
       "Name: price, dtype: float64"
      ]
     },
     "execution_count": 3,
     "metadata": {},
     "output_type": "execute_result"
    }
   ],
   "source": [
    "df['price'].agg(['mean','std'])"
   ]
  },
  {
   "cell_type": "markdown",
   "id": "09155b88",
   "metadata": {},
   "source": [
    "Defining the columns and aggregations in a dictionary"
   ]
  },
  {
   "cell_type": "code",
   "execution_count": 4,
   "id": "21b47828",
   "metadata": {},
   "outputs": [],
   "source": [
    "agg_cols = {'quantity':'sum',\n",
    "            'price':['mean','std'],\n",
    "           'invoice':'count',\n",
    "           'extended amount':'sum'}"
   ]
  },
  {
   "cell_type": "code",
   "execution_count": 5,
   "id": "bfa925e3",
   "metadata": {},
   "outputs": [
    {
     "data": {
      "text/html": [
       "<div>\n",
       "<style scoped>\n",
       "    .dataframe tbody tr th:only-of-type {\n",
       "        vertical-align: middle;\n",
       "    }\n",
       "\n",
       "    .dataframe tbody tr th {\n",
       "        vertical-align: top;\n",
       "    }\n",
       "\n",
       "    .dataframe thead th {\n",
       "        text-align: right;\n",
       "    }\n",
       "</style>\n",
       "<table border=\"1\" class=\"dataframe\">\n",
       "  <thead>\n",
       "    <tr style=\"text-align: right;\">\n",
       "      <th></th>\n",
       "      <th>quantity</th>\n",
       "      <th>price</th>\n",
       "      <th>invoice</th>\n",
       "      <th>extended amount</th>\n",
       "    </tr>\n",
       "  </thead>\n",
       "  <tbody>\n",
       "    <tr>\n",
       "      <th>sum</th>\n",
       "      <td>22421.0</td>\n",
       "      <td>NaN</td>\n",
       "      <td>NaN</td>\n",
       "      <td>510270.0</td>\n",
       "    </tr>\n",
       "    <tr>\n",
       "      <th>mean</th>\n",
       "      <td>NaN</td>\n",
       "      <td>22.816000</td>\n",
       "      <td>NaN</td>\n",
       "      <td>NaN</td>\n",
       "    </tr>\n",
       "    <tr>\n",
       "      <th>std</th>\n",
       "      <td>NaN</td>\n",
       "      <td>7.537039</td>\n",
       "      <td>NaN</td>\n",
       "      <td>NaN</td>\n",
       "    </tr>\n",
       "    <tr>\n",
       "      <th>count</th>\n",
       "      <td>NaN</td>\n",
       "      <td>NaN</td>\n",
       "      <td>1000.0</td>\n",
       "      <td>NaN</td>\n",
       "    </tr>\n",
       "  </tbody>\n",
       "</table>\n",
       "</div>"
      ],
      "text/plain": [
       "       quantity      price  invoice  extended amount\n",
       "sum     22421.0        NaN      NaN         510270.0\n",
       "mean        NaN  22.816000      NaN              NaN\n",
       "std         NaN   7.537039      NaN              NaN\n",
       "count       NaN        NaN   1000.0              NaN"
      ]
     },
     "execution_count": 5,
     "metadata": {},
     "output_type": "execute_result"
    }
   ],
   "source": [
    "df.agg(agg_cols)"
   ]
  },
  {
   "cell_type": "markdown",
   "id": "25c4252c",
   "metadata": {},
   "source": [
    "Aggregation across all columns (which sometimes doesn't make sense, e.g. mean of product names)"
   ]
  },
  {
   "cell_type": "code",
   "execution_count": 6,
   "id": "cb3a4493",
   "metadata": {},
   "outputs": [
    {
     "data": {
      "text/html": [
       "<div>\n",
       "<style scoped>\n",
       "    .dataframe tbody tr th:only-of-type {\n",
       "        vertical-align: middle;\n",
       "    }\n",
       "\n",
       "    .dataframe tbody tr th {\n",
       "        vertical-align: top;\n",
       "    }\n",
       "\n",
       "    .dataframe thead th {\n",
       "        text-align: right;\n",
       "    }\n",
       "</style>\n",
       "<table border=\"1\" class=\"dataframe\">\n",
       "  <thead>\n",
       "    <tr style=\"text-align: right;\">\n",
       "      <th></th>\n",
       "      <th>invoice</th>\n",
       "      <th>company</th>\n",
       "      <th>purchase_date</th>\n",
       "      <th>product</th>\n",
       "      <th>quantity</th>\n",
       "      <th>price</th>\n",
       "      <th>extended amount</th>\n",
       "    </tr>\n",
       "  </thead>\n",
       "  <tbody>\n",
       "    <tr>\n",
       "      <th>max</th>\n",
       "      <td>ZY-479-41</td>\n",
       "      <td>Zoozzy</td>\n",
       "      <td>2019-12-30 00:00:00.000</td>\n",
       "      <td>shirt</td>\n",
       "      <td>50.000</td>\n",
       "      <td>35.000</td>\n",
       "      <td>1715.00</td>\n",
       "    </tr>\n",
       "    <tr>\n",
       "      <th>mean</th>\n",
       "      <td>NaN</td>\n",
       "      <td>NaN</td>\n",
       "      <td>2019-07-04 17:41:16.800</td>\n",
       "      <td>NaN</td>\n",
       "      <td>22.421</td>\n",
       "      <td>22.816</td>\n",
       "      <td>510.27</td>\n",
       "    </tr>\n",
       "  </tbody>\n",
       "</table>\n",
       "</div>"
      ],
      "text/plain": [
       "        invoice company           purchase_date product  quantity   price  \\\n",
       "max   ZY-479-41  Zoozzy 2019-12-30 00:00:00.000   shirt    50.000  35.000   \n",
       "mean        NaN     NaN 2019-07-04 17:41:16.800     NaN    22.421  22.816   \n",
       "\n",
       "      extended amount  \n",
       "max           1715.00  \n",
       "mean           510.27  "
      ]
     },
     "execution_count": 6,
     "metadata": {},
     "output_type": "execute_result"
    }
   ],
   "source": [
    "df.agg(['mean','max'])"
   ]
  },
  {
   "cell_type": "markdown",
   "id": "1b988c44",
   "metadata": {},
   "source": [
    "Zap those NaN's"
   ]
  },
  {
   "cell_type": "code",
   "execution_count": 7,
   "id": "742d003e",
   "metadata": {},
   "outputs": [
    {
     "data": {
      "text/html": [
       "<div>\n",
       "<style scoped>\n",
       "    .dataframe tbody tr th:only-of-type {\n",
       "        vertical-align: middle;\n",
       "    }\n",
       "\n",
       "    .dataframe tbody tr th {\n",
       "        vertical-align: top;\n",
       "    }\n",
       "\n",
       "    .dataframe thead th {\n",
       "        text-align: right;\n",
       "    }\n",
       "</style>\n",
       "<table border=\"1\" class=\"dataframe\">\n",
       "  <thead>\n",
       "    <tr style=\"text-align: right;\">\n",
       "      <th></th>\n",
       "      <th>invoice</th>\n",
       "      <th>company</th>\n",
       "      <th>purchase_date</th>\n",
       "      <th>product</th>\n",
       "      <th>quantity</th>\n",
       "      <th>price</th>\n",
       "      <th>extended amount</th>\n",
       "    </tr>\n",
       "  </thead>\n",
       "  <tbody>\n",
       "    <tr>\n",
       "      <th>max</th>\n",
       "      <td>ZY-479-41</td>\n",
       "      <td>Zoozzy</td>\n",
       "      <td>2019-12-30 00:00:00.000</td>\n",
       "      <td>shirt</td>\n",
       "      <td>50.000</td>\n",
       "      <td>35.000</td>\n",
       "      <td>1715.00</td>\n",
       "    </tr>\n",
       "    <tr>\n",
       "      <th>mean</th>\n",
       "      <td></td>\n",
       "      <td></td>\n",
       "      <td>2019-07-04 17:41:16.800</td>\n",
       "      <td></td>\n",
       "      <td>22.421</td>\n",
       "      <td>22.816</td>\n",
       "      <td>510.27</td>\n",
       "    </tr>\n",
       "  </tbody>\n",
       "</table>\n",
       "</div>"
      ],
      "text/plain": [
       "        invoice company           purchase_date product  quantity   price  \\\n",
       "max   ZY-479-41  Zoozzy 2019-12-30 00:00:00.000   shirt    50.000  35.000   \n",
       "mean                    2019-07-04 17:41:16.800            22.421  22.816   \n",
       "\n",
       "      extended amount  \n",
       "max           1715.00  \n",
       "mean           510.27  "
      ]
     },
     "execution_count": 7,
     "metadata": {},
     "output_type": "execute_result"
    }
   ],
   "source": [
    "df.agg(['mean','max']).fillna(\"\")"
   ]
  },
  {
   "cell_type": "markdown",
   "id": "4e159a31",
   "metadata": {},
   "source": [
    "## Grouping"
   ]
  },
  {
   "cell_type": "markdown",
   "id": "baa1e841",
   "metadata": {},
   "source": [
    "Group by product, and sum all values (note that it intelligently ignores the sum of entities that don't make sense to sum, e.g. company name)"
   ]
  },
  {
   "cell_type": "code",
   "execution_count": 8,
   "id": "ca24ea4c",
   "metadata": {},
   "outputs": [
    {
     "data": {
      "text/html": [
       "<div>\n",
       "<style scoped>\n",
       "    .dataframe tbody tr th:only-of-type {\n",
       "        vertical-align: middle;\n",
       "    }\n",
       "\n",
       "    .dataframe tbody tr th {\n",
       "        vertical-align: top;\n",
       "    }\n",
       "\n",
       "    .dataframe thead th {\n",
       "        text-align: right;\n",
       "    }\n",
       "</style>\n",
       "<table border=\"1\" class=\"dataframe\">\n",
       "  <thead>\n",
       "    <tr style=\"text-align: right;\">\n",
       "      <th></th>\n",
       "      <th>quantity</th>\n",
       "      <th>price</th>\n",
       "      <th>extended amount</th>\n",
       "    </tr>\n",
       "    <tr>\n",
       "      <th>product</th>\n",
       "      <th></th>\n",
       "      <th></th>\n",
       "      <th></th>\n",
       "    </tr>\n",
       "  </thead>\n",
       "  <tbody>\n",
       "    <tr>\n",
       "      <th>book</th>\n",
       "      <td>5340</td>\n",
       "      <td>5115</td>\n",
       "      <td>118356</td>\n",
       "    </tr>\n",
       "    <tr>\n",
       "      <th>pen</th>\n",
       "      <td>5005</td>\n",
       "      <td>5271</td>\n",
       "      <td>115017</td>\n",
       "    </tr>\n",
       "    <tr>\n",
       "      <th>poster</th>\n",
       "      <td>5827</td>\n",
       "      <td>6258</td>\n",
       "      <td>139008</td>\n",
       "    </tr>\n",
       "    <tr>\n",
       "      <th>shirt</th>\n",
       "      <td>6249</td>\n",
       "      <td>6172</td>\n",
       "      <td>137889</td>\n",
       "    </tr>\n",
       "  </tbody>\n",
       "</table>\n",
       "</div>"
      ],
      "text/plain": [
       "         quantity  price  extended amount\n",
       "product                                  \n",
       "book         5340   5115           118356\n",
       "pen          5005   5271           115017\n",
       "poster       5827   6258           139008\n",
       "shirt        6249   6172           137889"
      ]
     },
     "execution_count": 8,
     "metadata": {},
     "output_type": "execute_result"
    }
   ],
   "source": [
    "df.groupby(['product']).sum()"
   ]
  },
  {
   "cell_type": "markdown",
   "id": "ba7314bd",
   "metadata": {},
   "source": [
    "Group by product, but only sum over quantity"
   ]
  },
  {
   "cell_type": "code",
   "execution_count": 9,
   "id": "69ad9537",
   "metadata": {},
   "outputs": [
    {
     "data": {
      "text/plain": [
       "product\n",
       "book      5340\n",
       "pen       5005\n",
       "poster    5827\n",
       "shirt     6249\n",
       "Name: quantity, dtype: int64"
      ]
     },
     "execution_count": 9,
     "metadata": {},
     "output_type": "execute_result"
    }
   ],
   "source": [
    "df.groupby(['product'])['quantity'].sum()"
   ]
  },
  {
   "cell_type": "markdown",
   "id": "447bc54c",
   "metadata": {},
   "source": [
    "Another way to achieve the same end, this time by using a dictionary like last time, a dictionary that contains the columns that we would like to aggregate. This below is saying we want to aggregate the column 'quantity', and we want to get the 'sum' of this aggregation."
   ]
  },
  {
   "cell_type": "code",
   "execution_count": 10,
   "id": "4a85f426",
   "metadata": {},
   "outputs": [],
   "source": [
    "agg_cols = {'quantity' : 'sum'}"
   ]
  },
  {
   "cell_type": "code",
   "execution_count": 11,
   "id": "6a16cca0",
   "metadata": {},
   "outputs": [
    {
     "data": {
      "text/html": [
       "<div>\n",
       "<style scoped>\n",
       "    .dataframe tbody tr th:only-of-type {\n",
       "        vertical-align: middle;\n",
       "    }\n",
       "\n",
       "    .dataframe tbody tr th {\n",
       "        vertical-align: top;\n",
       "    }\n",
       "\n",
       "    .dataframe thead th {\n",
       "        text-align: right;\n",
       "    }\n",
       "</style>\n",
       "<table border=\"1\" class=\"dataframe\">\n",
       "  <thead>\n",
       "    <tr style=\"text-align: right;\">\n",
       "      <th></th>\n",
       "      <th>quantity</th>\n",
       "    </tr>\n",
       "    <tr>\n",
       "      <th>product</th>\n",
       "      <th></th>\n",
       "    </tr>\n",
       "  </thead>\n",
       "  <tbody>\n",
       "    <tr>\n",
       "      <th>book</th>\n",
       "      <td>5340</td>\n",
       "    </tr>\n",
       "    <tr>\n",
       "      <th>pen</th>\n",
       "      <td>5005</td>\n",
       "    </tr>\n",
       "    <tr>\n",
       "      <th>poster</th>\n",
       "      <td>5827</td>\n",
       "    </tr>\n",
       "    <tr>\n",
       "      <th>shirt</th>\n",
       "      <td>6249</td>\n",
       "    </tr>\n",
       "  </tbody>\n",
       "</table>\n",
       "</div>"
      ],
      "text/plain": [
       "         quantity\n",
       "product          \n",
       "book         5340\n",
       "pen          5005\n",
       "poster       5827\n",
       "shirt        6249"
      ]
     },
     "execution_count": 11,
     "metadata": {},
     "output_type": "execute_result"
    }
   ],
   "source": [
    "df.groupby(['product']).agg(agg_cols)"
   ]
  },
  {
   "cell_type": "markdown",
   "id": "ff43b5af",
   "metadata": {},
   "source": [
    "Having obtained the universal sum of products sold, this is how you do the sum but by company."
   ]
  },
  {
   "cell_type": "code",
   "execution_count": 12,
   "id": "cd8568a2",
   "metadata": {},
   "outputs": [
    {
     "data": {
      "text/html": [
       "<div>\n",
       "<style scoped>\n",
       "    .dataframe tbody tr th:only-of-type {\n",
       "        vertical-align: middle;\n",
       "    }\n",
       "\n",
       "    .dataframe tbody tr th {\n",
       "        vertical-align: top;\n",
       "    }\n",
       "\n",
       "    .dataframe thead th {\n",
       "        text-align: right;\n",
       "    }\n",
       "</style>\n",
       "<table border=\"1\" class=\"dataframe\">\n",
       "  <thead>\n",
       "    <tr style=\"text-align: right;\">\n",
       "      <th></th>\n",
       "      <th></th>\n",
       "      <th>quantity</th>\n",
       "    </tr>\n",
       "    <tr>\n",
       "      <th>company</th>\n",
       "      <th>product</th>\n",
       "      <th></th>\n",
       "    </tr>\n",
       "  </thead>\n",
       "  <tbody>\n",
       "    <tr>\n",
       "      <th rowspan=\"3\" valign=\"top\">Abatz</th>\n",
       "      <th>book</th>\n",
       "      <td>64</td>\n",
       "    </tr>\n",
       "    <tr>\n",
       "      <th>pen</th>\n",
       "      <td>7</td>\n",
       "    </tr>\n",
       "    <tr>\n",
       "      <th>poster</th>\n",
       "      <td>39</td>\n",
       "    </tr>\n",
       "    <tr>\n",
       "      <th rowspan=\"2\" valign=\"top\">Agivu</th>\n",
       "      <th>book</th>\n",
       "      <td>11</td>\n",
       "    </tr>\n",
       "    <tr>\n",
       "      <th>shirt</th>\n",
       "      <td>20</td>\n",
       "    </tr>\n",
       "    <tr>\n",
       "      <th>...</th>\n",
       "      <th>...</th>\n",
       "      <td>...</td>\n",
       "    </tr>\n",
       "    <tr>\n",
       "      <th rowspan=\"2\" valign=\"top\">Zooxo</th>\n",
       "      <th>book</th>\n",
       "      <td>30</td>\n",
       "    </tr>\n",
       "    <tr>\n",
       "      <th>shirt</th>\n",
       "      <td>85</td>\n",
       "    </tr>\n",
       "    <tr>\n",
       "      <th rowspan=\"3\" valign=\"top\">Zoozzy</th>\n",
       "      <th>pen</th>\n",
       "      <td>31</td>\n",
       "    </tr>\n",
       "    <tr>\n",
       "      <th>poster</th>\n",
       "      <td>31</td>\n",
       "    </tr>\n",
       "    <tr>\n",
       "      <th>shirt</th>\n",
       "      <td>23</td>\n",
       "    </tr>\n",
       "  </tbody>\n",
       "</table>\n",
       "<p>731 rows × 1 columns</p>\n",
       "</div>"
      ],
      "text/plain": [
       "                 quantity\n",
       "company product          \n",
       "Abatz   book           64\n",
       "        pen             7\n",
       "        poster         39\n",
       "Agivu   book           11\n",
       "        shirt          20\n",
       "...                   ...\n",
       "Zooxo   book           30\n",
       "        shirt          85\n",
       "Zoozzy  pen            31\n",
       "        poster         31\n",
       "        shirt          23\n",
       "\n",
       "[731 rows x 1 columns]"
      ]
     },
     "execution_count": 12,
     "metadata": {},
     "output_type": "execute_result"
    }
   ],
   "source": [
    "df.groupby(['company','product']).agg(agg_cols)"
   ]
  },
  {
   "cell_type": "markdown",
   "id": "3fae565a",
   "metadata": {},
   "source": [
    "Reset the index (not sure why you'd want to do this)"
   ]
  },
  {
   "cell_type": "code",
   "execution_count": 13,
   "id": "1030ec8c",
   "metadata": {},
   "outputs": [
    {
     "data": {
      "text/html": [
       "<div>\n",
       "<style scoped>\n",
       "    .dataframe tbody tr th:only-of-type {\n",
       "        vertical-align: middle;\n",
       "    }\n",
       "\n",
       "    .dataframe tbody tr th {\n",
       "        vertical-align: top;\n",
       "    }\n",
       "\n",
       "    .dataframe thead th {\n",
       "        text-align: right;\n",
       "    }\n",
       "</style>\n",
       "<table border=\"1\" class=\"dataframe\">\n",
       "  <thead>\n",
       "    <tr style=\"text-align: right;\">\n",
       "      <th></th>\n",
       "      <th>company</th>\n",
       "      <th>product</th>\n",
       "      <th>quantity</th>\n",
       "    </tr>\n",
       "  </thead>\n",
       "  <tbody>\n",
       "    <tr>\n",
       "      <th>0</th>\n",
       "      <td>Abatz</td>\n",
       "      <td>book</td>\n",
       "      <td>64</td>\n",
       "    </tr>\n",
       "    <tr>\n",
       "      <th>1</th>\n",
       "      <td>Abatz</td>\n",
       "      <td>pen</td>\n",
       "      <td>7</td>\n",
       "    </tr>\n",
       "    <tr>\n",
       "      <th>2</th>\n",
       "      <td>Abatz</td>\n",
       "      <td>poster</td>\n",
       "      <td>39</td>\n",
       "    </tr>\n",
       "    <tr>\n",
       "      <th>3</th>\n",
       "      <td>Agivu</td>\n",
       "      <td>book</td>\n",
       "      <td>11</td>\n",
       "    </tr>\n",
       "    <tr>\n",
       "      <th>4</th>\n",
       "      <td>Agivu</td>\n",
       "      <td>shirt</td>\n",
       "      <td>20</td>\n",
       "    </tr>\n",
       "    <tr>\n",
       "      <th>...</th>\n",
       "      <td>...</td>\n",
       "      <td>...</td>\n",
       "      <td>...</td>\n",
       "    </tr>\n",
       "    <tr>\n",
       "      <th>726</th>\n",
       "      <td>Zooxo</td>\n",
       "      <td>book</td>\n",
       "      <td>30</td>\n",
       "    </tr>\n",
       "    <tr>\n",
       "      <th>727</th>\n",
       "      <td>Zooxo</td>\n",
       "      <td>shirt</td>\n",
       "      <td>85</td>\n",
       "    </tr>\n",
       "    <tr>\n",
       "      <th>728</th>\n",
       "      <td>Zoozzy</td>\n",
       "      <td>pen</td>\n",
       "      <td>31</td>\n",
       "    </tr>\n",
       "    <tr>\n",
       "      <th>729</th>\n",
       "      <td>Zoozzy</td>\n",
       "      <td>poster</td>\n",
       "      <td>31</td>\n",
       "    </tr>\n",
       "    <tr>\n",
       "      <th>730</th>\n",
       "      <td>Zoozzy</td>\n",
       "      <td>shirt</td>\n",
       "      <td>23</td>\n",
       "    </tr>\n",
       "  </tbody>\n",
       "</table>\n",
       "<p>731 rows × 3 columns</p>\n",
       "</div>"
      ],
      "text/plain": [
       "    company product  quantity\n",
       "0     Abatz    book        64\n",
       "1     Abatz     pen         7\n",
       "2     Abatz  poster        39\n",
       "3     Agivu    book        11\n",
       "4     Agivu   shirt        20\n",
       "..      ...     ...       ...\n",
       "726   Zooxo    book        30\n",
       "727   Zooxo   shirt        85\n",
       "728  Zoozzy     pen        31\n",
       "729  Zoozzy  poster        31\n",
       "730  Zoozzy   shirt        23\n",
       "\n",
       "[731 rows x 3 columns]"
      ]
     },
     "execution_count": 13,
     "metadata": {},
     "output_type": "execute_result"
    }
   ],
   "source": [
    "df.groupby(['company','product']).agg(agg_cols).reset_index()"
   ]
  },
  {
   "cell_type": "markdown",
   "id": "b19ef64c",
   "metadata": {},
   "source": [
    "And finally, here's how to set up 'named columns'. In this case, we want to know for each company, *how many* ('count') invoices there are, and out of those invoices, what was the *maximum purchase* ('max')."
   ]
  },
  {
   "cell_type": "code",
   "execution_count": 16,
   "id": "dd4eb3ef",
   "metadata": {},
   "outputs": [
    {
     "data": {
      "text/html": [
       "<div>\n",
       "<style scoped>\n",
       "    .dataframe tbody tr th:only-of-type {\n",
       "        vertical-align: middle;\n",
       "    }\n",
       "\n",
       "    .dataframe tbody tr th {\n",
       "        vertical-align: top;\n",
       "    }\n",
       "\n",
       "    .dataframe thead th {\n",
       "        text-align: right;\n",
       "    }\n",
       "</style>\n",
       "<table border=\"1\" class=\"dataframe\">\n",
       "  <thead>\n",
       "    <tr style=\"text-align: right;\">\n",
       "      <th></th>\n",
       "      <th>invoice_total</th>\n",
       "      <th>max_purchase</th>\n",
       "    </tr>\n",
       "    <tr>\n",
       "      <th>company</th>\n",
       "      <th></th>\n",
       "      <th></th>\n",
       "    </tr>\n",
       "  </thead>\n",
       "  <tbody>\n",
       "    <tr>\n",
       "      <th>Abatz</th>\n",
       "      <td>5</td>\n",
       "      <td>1410</td>\n",
       "    </tr>\n",
       "    <tr>\n",
       "      <th>Agivu</th>\n",
       "      <td>2</td>\n",
       "      <td>700</td>\n",
       "    </tr>\n",
       "    <tr>\n",
       "      <th>Aibox</th>\n",
       "      <td>2</td>\n",
       "      <td>828</td>\n",
       "    </tr>\n",
       "    <tr>\n",
       "      <th>Ailane</th>\n",
       "      <td>3</td>\n",
       "      <td>400</td>\n",
       "    </tr>\n",
       "    <tr>\n",
       "      <th>Aimbo</th>\n",
       "      <td>3</td>\n",
       "      <td>570</td>\n",
       "    </tr>\n",
       "    <tr>\n",
       "      <th>...</th>\n",
       "      <td>...</td>\n",
       "      <td>...</td>\n",
       "    </tr>\n",
       "    <tr>\n",
       "      <th>Zoonoodle</th>\n",
       "      <td>3</td>\n",
       "      <td>644</td>\n",
       "    </tr>\n",
       "    <tr>\n",
       "      <th>Zooveo</th>\n",
       "      <td>4</td>\n",
       "      <td>609</td>\n",
       "    </tr>\n",
       "    <tr>\n",
       "      <th>Zoovu</th>\n",
       "      <td>2</td>\n",
       "      <td>165</td>\n",
       "    </tr>\n",
       "    <tr>\n",
       "      <th>Zooxo</th>\n",
       "      <td>3</td>\n",
       "      <td>968</td>\n",
       "    </tr>\n",
       "    <tr>\n",
       "      <th>Zoozzy</th>\n",
       "      <td>4</td>\n",
       "      <td>620</td>\n",
       "    </tr>\n",
       "  </tbody>\n",
       "</table>\n",
       "<p>351 rows × 2 columns</p>\n",
       "</div>"
      ],
      "text/plain": [
       "           invoice_total  max_purchase\n",
       "company                               \n",
       "Abatz                  5          1410\n",
       "Agivu                  2           700\n",
       "Aibox                  2           828\n",
       "Ailane                 3           400\n",
       "Aimbo                  3           570\n",
       "...                  ...           ...\n",
       "Zoonoodle              3           644\n",
       "Zooveo                 4           609\n",
       "Zoovu                  2           165\n",
       "Zooxo                  3           968\n",
       "Zoozzy                 4           620\n",
       "\n",
       "[351 rows x 2 columns]"
      ]
     },
     "execution_count": 16,
     "metadata": {},
     "output_type": "execute_result"
    }
   ],
   "source": [
    "df.groupby(['company']).agg(invoice_total=('invoice','count'),max_purchase=('extended amount','max'))"
   ]
  },
  {
   "cell_type": "code",
   "execution_count": null,
   "id": "c7abae1d",
   "metadata": {},
   "outputs": [],
   "source": []
  }
 ],
 "metadata": {
  "kernelspec": {
   "display_name": "Python 3",
   "language": "python",
   "name": "python3"
  },
  "language_info": {
   "codemirror_mode": {
    "name": "ipython",
    "version": 3
   },
   "file_extension": ".py",
   "mimetype": "text/x-python",
   "name": "python",
   "nbconvert_exporter": "python",
   "pygments_lexer": "ipython3",
   "version": "3.9.4"
  }
 },
 "nbformat": 4,
 "nbformat_minor": 5
}
