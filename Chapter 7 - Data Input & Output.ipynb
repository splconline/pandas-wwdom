{
 "cells": [
  {
   "cell_type": "markdown",
   "id": "158820d6",
   "metadata": {},
   "source": [
    "# Chapter 7 - Data I/O\n",
    "## Reading Non-Tabular Excel Files\n"
   ]
  },
  {
   "cell_type": "code",
   "execution_count": 1,
   "id": "f516b1df",
   "metadata": {},
   "outputs": [
    {
     "data": {
      "text/html": [
       "<div>\n",
       "<style scoped>\n",
       "    .dataframe tbody tr th:only-of-type {\n",
       "        vertical-align: middle;\n",
       "    }\n",
       "\n",
       "    .dataframe tbody tr th {\n",
       "        vertical-align: top;\n",
       "    }\n",
       "\n",
       "    .dataframe thead th {\n",
       "        text-align: right;\n",
       "    }\n",
       "</style>\n",
       "<table border=\"1\" class=\"dataframe\">\n",
       "  <thead>\n",
       "    <tr style=\"text-align: right;\">\n",
       "      <th></th>\n",
       "    </tr>\n",
       "  </thead>\n",
       "  <tbody>\n",
       "  </tbody>\n",
       "</table>\n",
       "</div>"
      ],
      "text/plain": [
       "Empty DataFrame\n",
       "Columns: []\n",
       "Index: []"
      ]
     },
     "execution_count": 1,
     "metadata": {},
     "output_type": "execute_result"
    }
   ],
   "source": [
    "import pandas as pd\n",
    "import openpyxl\n",
    "from pathlib import Path\n",
    "input_file = Path.cwd()/'data'/'raw'/'excel_complicated_document.xlsx'\n",
    "df = pd.read_excel(input_file,engine='openpyxl')\n",
    "df.head()"
   ]
  },
  {
   "cell_type": "markdown",
   "id": "240a6476",
   "metadata": {},
   "source": [
    "What the ...? Empty import, that's because the data is in a different sheet, so we need to specify the sheet."
   ]
  },
  {
   "cell_type": "code",
   "execution_count": 2,
   "id": "85639dc4",
   "metadata": {},
   "outputs": [],
   "source": [
    "df = pd.read_excel(input_file,engine='openpyxl',sheet_name='sales data')"
   ]
  },
  {
   "cell_type": "code",
   "execution_count": 3,
   "id": "ce3857ae",
   "metadata": {},
   "outputs": [
    {
     "data": {
      "text/html": [
       "<div>\n",
       "<style scoped>\n",
       "    .dataframe tbody tr th:only-of-type {\n",
       "        vertical-align: middle;\n",
       "    }\n",
       "\n",
       "    .dataframe tbody tr th {\n",
       "        vertical-align: top;\n",
       "    }\n",
       "\n",
       "    .dataframe thead th {\n",
       "        text-align: right;\n",
       "    }\n",
       "</style>\n",
       "<table border=\"1\" class=\"dataframe\">\n",
       "  <thead>\n",
       "    <tr style=\"text-align: right;\">\n",
       "      <th></th>\n",
       "      <th>invoice</th>\n",
       "      <th>company</th>\n",
       "      <th>purchase_date</th>\n",
       "      <th>product</th>\n",
       "      <th>quantity</th>\n",
       "      <th>price</th>\n",
       "      <th>extended amount</th>\n",
       "      <th>Average Price</th>\n",
       "      <th>22.816</th>\n",
       "    </tr>\n",
       "  </thead>\n",
       "  <tbody>\n",
       "    <tr>\n",
       "      <th>0</th>\n",
       "      <td>ZN-870-29</td>\n",
       "      <td>Realcube</td>\n",
       "      <td>2019-03-05</td>\n",
       "      <td>shirt</td>\n",
       "      <td>19</td>\n",
       "      <td>17</td>\n",
       "      <td>323</td>\n",
       "      <td>Standard Deviation</td>\n",
       "      <td>7.533269</td>\n",
       "    </tr>\n",
       "    <tr>\n",
       "      <th>1</th>\n",
       "      <td>JQ-501-63</td>\n",
       "      <td>Zooxo</td>\n",
       "      <td>2019-07-09</td>\n",
       "      <td>book</td>\n",
       "      <td>30</td>\n",
       "      <td>14</td>\n",
       "      <td>420</td>\n",
       "      <td>NaN</td>\n",
       "      <td>NaN</td>\n",
       "    </tr>\n",
       "    <tr>\n",
       "      <th>2</th>\n",
       "      <td>FI-165-58</td>\n",
       "      <td>Dabtype</td>\n",
       "      <td>2019-08-12</td>\n",
       "      <td>poster</td>\n",
       "      <td>7</td>\n",
       "      <td>23</td>\n",
       "      <td>161</td>\n",
       "      <td>Total Qty Sold</td>\n",
       "      <td>NaN</td>\n",
       "    </tr>\n",
       "    <tr>\n",
       "      <th>3</th>\n",
       "      <td>XP-005-55</td>\n",
       "      <td>Skipfire</td>\n",
       "      <td>2019-11-18</td>\n",
       "      <td>pen</td>\n",
       "      <td>7</td>\n",
       "      <td>29</td>\n",
       "      <td>203</td>\n",
       "      <td>shirt</td>\n",
       "      <td>6249.000000</td>\n",
       "    </tr>\n",
       "    <tr>\n",
       "      <th>4</th>\n",
       "      <td>NB-917-18</td>\n",
       "      <td>Bluezoom</td>\n",
       "      <td>2019-04-18</td>\n",
       "      <td>poster</td>\n",
       "      <td>36</td>\n",
       "      <td>19</td>\n",
       "      <td>684</td>\n",
       "      <td>book</td>\n",
       "      <td>5340.000000</td>\n",
       "    </tr>\n",
       "  </tbody>\n",
       "</table>\n",
       "</div>"
      ],
      "text/plain": [
       "     invoice   company purchase_date product  quantity  price  \\\n",
       "0  ZN-870-29  Realcube    2019-03-05   shirt        19     17   \n",
       "1  JQ-501-63     Zooxo    2019-07-09    book        30     14   \n",
       "2  FI-165-58   Dabtype    2019-08-12  poster         7     23   \n",
       "3  XP-005-55  Skipfire    2019-11-18     pen         7     29   \n",
       "4  NB-917-18  Bluezoom    2019-04-18  poster        36     19   \n",
       "\n",
       "   extended amount       Average Price       22.816  \n",
       "0              323  Standard Deviation     7.533269  \n",
       "1              420                 NaN          NaN  \n",
       "2              161      Total Qty Sold          NaN  \n",
       "3              203               shirt  6249.000000  \n",
       "4              684                book  5340.000000  "
      ]
     },
     "execution_count": 3,
     "metadata": {},
     "output_type": "execute_result"
    }
   ],
   "source": [
    "df.head()"
   ]
  },
  {
   "cell_type": "markdown",
   "id": "7f8b8fa8",
   "metadata": {},
   "source": [
    "Much better, but there's dud columns where it says 'Average Price' etc., so we need to specify the import columns."
   ]
  },
  {
   "cell_type": "code",
   "execution_count": 4,
   "id": "73d7295d",
   "metadata": {},
   "outputs": [],
   "source": [
    "df = pd.read_excel(input_file,engine='openpyxl',sheet_name='sales data',usecols='A:G')"
   ]
  },
  {
   "cell_type": "code",
   "execution_count": 5,
   "id": "e6915362",
   "metadata": {},
   "outputs": [
    {
     "data": {
      "text/html": [
       "<div>\n",
       "<style scoped>\n",
       "    .dataframe tbody tr th:only-of-type {\n",
       "        vertical-align: middle;\n",
       "    }\n",
       "\n",
       "    .dataframe tbody tr th {\n",
       "        vertical-align: top;\n",
       "    }\n",
       "\n",
       "    .dataframe thead th {\n",
       "        text-align: right;\n",
       "    }\n",
       "</style>\n",
       "<table border=\"1\" class=\"dataframe\">\n",
       "  <thead>\n",
       "    <tr style=\"text-align: right;\">\n",
       "      <th></th>\n",
       "      <th>invoice</th>\n",
       "      <th>company</th>\n",
       "      <th>purchase_date</th>\n",
       "      <th>product</th>\n",
       "      <th>quantity</th>\n",
       "      <th>price</th>\n",
       "      <th>extended amount</th>\n",
       "    </tr>\n",
       "  </thead>\n",
       "  <tbody>\n",
       "    <tr>\n",
       "      <th>0</th>\n",
       "      <td>ZN-870-29</td>\n",
       "      <td>Realcube</td>\n",
       "      <td>2019-03-05</td>\n",
       "      <td>shirt</td>\n",
       "      <td>19</td>\n",
       "      <td>17</td>\n",
       "      <td>323</td>\n",
       "    </tr>\n",
       "    <tr>\n",
       "      <th>1</th>\n",
       "      <td>JQ-501-63</td>\n",
       "      <td>Zooxo</td>\n",
       "      <td>2019-07-09</td>\n",
       "      <td>book</td>\n",
       "      <td>30</td>\n",
       "      <td>14</td>\n",
       "      <td>420</td>\n",
       "    </tr>\n",
       "    <tr>\n",
       "      <th>2</th>\n",
       "      <td>FI-165-58</td>\n",
       "      <td>Dabtype</td>\n",
       "      <td>2019-08-12</td>\n",
       "      <td>poster</td>\n",
       "      <td>7</td>\n",
       "      <td>23</td>\n",
       "      <td>161</td>\n",
       "    </tr>\n",
       "    <tr>\n",
       "      <th>3</th>\n",
       "      <td>XP-005-55</td>\n",
       "      <td>Skipfire</td>\n",
       "      <td>2019-11-18</td>\n",
       "      <td>pen</td>\n",
       "      <td>7</td>\n",
       "      <td>29</td>\n",
       "      <td>203</td>\n",
       "    </tr>\n",
       "    <tr>\n",
       "      <th>4</th>\n",
       "      <td>NB-917-18</td>\n",
       "      <td>Bluezoom</td>\n",
       "      <td>2019-04-18</td>\n",
       "      <td>poster</td>\n",
       "      <td>36</td>\n",
       "      <td>19</td>\n",
       "      <td>684</td>\n",
       "    </tr>\n",
       "  </tbody>\n",
       "</table>\n",
       "</div>"
      ],
      "text/plain": [
       "     invoice   company purchase_date product  quantity  price  extended amount\n",
       "0  ZN-870-29  Realcube    2019-03-05   shirt        19     17              323\n",
       "1  JQ-501-63     Zooxo    2019-07-09    book        30     14              420\n",
       "2  FI-165-58   Dabtype    2019-08-12  poster         7     23              161\n",
       "3  XP-005-55  Skipfire    2019-11-18     pen         7     29              203\n",
       "4  NB-917-18  Bluezoom    2019-04-18  poster        36     19              684"
      ]
     },
     "execution_count": 5,
     "metadata": {},
     "output_type": "execute_result"
    }
   ],
   "source": [
    "df.head()"
   ]
  },
  {
   "cell_type": "markdown",
   "id": "fdb30889",
   "metadata": {},
   "source": [
    "Let's do another sheet."
   ]
  },
  {
   "cell_type": "code",
   "execution_count": 6,
   "id": "a51e072f",
   "metadata": {},
   "outputs": [],
   "source": [
    "df = pd.read_excel(input_file,engine='openpyxl',sheet_name='levels')"
   ]
  },
  {
   "cell_type": "code",
   "execution_count": 7,
   "id": "c4b08966",
   "metadata": {},
   "outputs": [
    {
     "data": {
      "text/html": [
       "<div>\n",
       "<style scoped>\n",
       "    .dataframe tbody tr th:only-of-type {\n",
       "        vertical-align: middle;\n",
       "    }\n",
       "\n",
       "    .dataframe tbody tr th {\n",
       "        vertical-align: top;\n",
       "    }\n",
       "\n",
       "    .dataframe thead th {\n",
       "        text-align: right;\n",
       "    }\n",
       "</style>\n",
       "<table border=\"1\" class=\"dataframe\">\n",
       "  <thead>\n",
       "    <tr style=\"text-align: right;\">\n",
       "      <th></th>\n",
       "      <th>Compiled by hand</th>\n",
       "      <th>Unnamed: 1</th>\n",
       "      <th>Unnamed: 2</th>\n",
       "      <th>Unnamed: 3</th>\n",
       "      <th>Unnamed: 4</th>\n",
       "      <th>Unnamed: 5</th>\n",
       "      <th>Unnamed: 6</th>\n",
       "      <th>Unnamed: 7</th>\n",
       "    </tr>\n",
       "  </thead>\n",
       "  <tbody>\n",
       "    <tr>\n",
       "      <th>0</th>\n",
       "      <td>NaN</td>\n",
       "      <td>NaN</td>\n",
       "      <td>New Levels from the CMO</td>\n",
       "      <td>NaN</td>\n",
       "      <td>NaN</td>\n",
       "      <td>NaN</td>\n",
       "      <td>NaN</td>\n",
       "      <td>NaN</td>\n",
       "    </tr>\n",
       "    <tr>\n",
       "      <th>1</th>\n",
       "      <td>Company Name</td>\n",
       "      <td>Notes</td>\n",
       "      <td>level</td>\n",
       "      <td>ZipCode</td>\n",
       "      <td>update_month</td>\n",
       "      <td>update_day</td>\n",
       "      <td>update_year</td>\n",
       "      <td>pct_to_target</td>\n",
       "    </tr>\n",
       "    <tr>\n",
       "      <th>2</th>\n",
       "      <td>Abatz</td>\n",
       "      <td>Not Sure about this one</td>\n",
       "      <td>diamond</td>\n",
       "      <td>14150</td>\n",
       "      <td>3</td>\n",
       "      <td>1</td>\n",
       "      <td>2019</td>\n",
       "      <td>100%</td>\n",
       "    </tr>\n",
       "    <tr>\n",
       "      <th>3</th>\n",
       "      <td>Agivu</td>\n",
       "      <td>NaN</td>\n",
       "      <td>silver</td>\n",
       "      <td>61354</td>\n",
       "      <td>3</td>\n",
       "      <td>1</td>\n",
       "      <td>2019</td>\n",
       "      <td>90%</td>\n",
       "    </tr>\n",
       "    <tr>\n",
       "      <th>4</th>\n",
       "      <td>Aibox</td>\n",
       "      <td>NaN</td>\n",
       "      <td>platinum</td>\n",
       "      <td>04442</td>\n",
       "      <td>3</td>\n",
       "      <td>1</td>\n",
       "      <td>2019</td>\n",
       "      <td>105%</td>\n",
       "    </tr>\n",
       "  </tbody>\n",
       "</table>\n",
       "</div>"
      ],
      "text/plain": [
       "  Compiled by hand               Unnamed: 1               Unnamed: 2  \\\n",
       "0              NaN                      NaN  New Levels from the CMO   \n",
       "1     Company Name                    Notes                    level   \n",
       "2            Abatz  Not Sure about this one                  diamond   \n",
       "3            Agivu                      NaN                   silver   \n",
       "4            Aibox                      NaN                 platinum   \n",
       "\n",
       "  Unnamed: 3    Unnamed: 4  Unnamed: 5   Unnamed: 6     Unnamed: 7  \n",
       "0        NaN           NaN         NaN          NaN            NaN  \n",
       "1    ZipCode  update_month  update_day  update_year  pct_to_target  \n",
       "2      14150             3           1         2019           100%  \n",
       "3      61354             3           1         2019            90%  \n",
       "4      04442             3           1         2019           105%  "
      ]
     },
     "execution_count": 7,
     "metadata": {},
     "output_type": "execute_result"
    }
   ],
   "source": [
    "df.head()"
   ]
  },
  {
   "cell_type": "markdown",
   "id": "85b816c1",
   "metadata": {},
   "source": [
    "Whoa, what happened there? Headers are on row 3! (Which is index 2 counting from zero) So we specify where the headers is."
   ]
  },
  {
   "cell_type": "code",
   "execution_count": 8,
   "id": "fc978d34",
   "metadata": {},
   "outputs": [],
   "source": [
    "df = pd.read_excel(input_file,engine='openpyxl',sheet_name='levels',header=2)"
   ]
  },
  {
   "cell_type": "code",
   "execution_count": 9,
   "id": "22219b5b",
   "metadata": {},
   "outputs": [
    {
     "data": {
      "text/html": [
       "<div>\n",
       "<style scoped>\n",
       "    .dataframe tbody tr th:only-of-type {\n",
       "        vertical-align: middle;\n",
       "    }\n",
       "\n",
       "    .dataframe tbody tr th {\n",
       "        vertical-align: top;\n",
       "    }\n",
       "\n",
       "    .dataframe thead th {\n",
       "        text-align: right;\n",
       "    }\n",
       "</style>\n",
       "<table border=\"1\" class=\"dataframe\">\n",
       "  <thead>\n",
       "    <tr style=\"text-align: right;\">\n",
       "      <th></th>\n",
       "      <th>Company Name</th>\n",
       "      <th>Notes</th>\n",
       "      <th>level</th>\n",
       "      <th>ZipCode</th>\n",
       "      <th>update_month</th>\n",
       "      <th>update_day</th>\n",
       "      <th>update_year</th>\n",
       "      <th>pct_to_target</th>\n",
       "    </tr>\n",
       "  </thead>\n",
       "  <tbody>\n",
       "    <tr>\n",
       "      <th>0</th>\n",
       "      <td>Abatz</td>\n",
       "      <td>Not Sure about this one</td>\n",
       "      <td>diamond</td>\n",
       "      <td>14150</td>\n",
       "      <td>3</td>\n",
       "      <td>1</td>\n",
       "      <td>2019</td>\n",
       "      <td>100%</td>\n",
       "    </tr>\n",
       "    <tr>\n",
       "      <th>1</th>\n",
       "      <td>Agivu</td>\n",
       "      <td>NaN</td>\n",
       "      <td>silver</td>\n",
       "      <td>61354</td>\n",
       "      <td>3</td>\n",
       "      <td>1</td>\n",
       "      <td>2019</td>\n",
       "      <td>90%</td>\n",
       "    </tr>\n",
       "    <tr>\n",
       "      <th>2</th>\n",
       "      <td>Aibox</td>\n",
       "      <td>NaN</td>\n",
       "      <td>platinum</td>\n",
       "      <td>4442</td>\n",
       "      <td>3</td>\n",
       "      <td>1</td>\n",
       "      <td>2019</td>\n",
       "      <td>105%</td>\n",
       "    </tr>\n",
       "    <tr>\n",
       "      <th>3</th>\n",
       "      <td>Ailane</td>\n",
       "      <td>NaN</td>\n",
       "      <td>silver</td>\n",
       "      <td>78595</td>\n",
       "      <td>3</td>\n",
       "      <td>1</td>\n",
       "      <td>2019</td>\n",
       "      <td>60%</td>\n",
       "    </tr>\n",
       "    <tr>\n",
       "      <th>4</th>\n",
       "      <td>Aimbo</td>\n",
       "      <td>NaN</td>\n",
       "      <td>diamond</td>\n",
       "      <td>55447</td>\n",
       "      <td>3</td>\n",
       "      <td>1</td>\n",
       "      <td>2019</td>\n",
       "      <td>100%</td>\n",
       "    </tr>\n",
       "  </tbody>\n",
       "</table>\n",
       "</div>"
      ],
      "text/plain": [
       "  Company Name                    Notes     level  ZipCode  update_month  \\\n",
       "0        Abatz  Not Sure about this one   diamond    14150             3   \n",
       "1        Agivu                      NaN    silver    61354             3   \n",
       "2        Aibox                      NaN  platinum     4442             3   \n",
       "3       Ailane                      NaN    silver    78595             3   \n",
       "4        Aimbo                      NaN   diamond    55447             3   \n",
       "\n",
       "   update_day  update_year pct_to_target  \n",
       "0           1         2019          100%  \n",
       "1           1         2019           90%  \n",
       "2           1         2019          105%  \n",
       "3           1         2019           60%  \n",
       "4           1         2019          100%  "
      ]
     },
     "execution_count": 9,
     "metadata": {},
     "output_type": "execute_result"
    }
   ],
   "source": [
    "df.head()"
   ]
  },
  {
   "cell_type": "markdown",
   "id": "176b22fc",
   "metadata": {},
   "source": [
    "Let's kill the 'Notes' column by not importing it in the first place."
   ]
  },
  {
   "cell_type": "code",
   "execution_count": 10,
   "id": "7f8607cf",
   "metadata": {},
   "outputs": [],
   "source": [
    "df = pd.read_excel(input_file,engine='openpyxl',sheet_name='levels',header=2,usecols='A,C:H')"
   ]
  },
  {
   "cell_type": "code",
   "execution_count": 11,
   "id": "4a7e1413",
   "metadata": {},
   "outputs": [
    {
     "data": {
      "text/html": [
       "<div>\n",
       "<style scoped>\n",
       "    .dataframe tbody tr th:only-of-type {\n",
       "        vertical-align: middle;\n",
       "    }\n",
       "\n",
       "    .dataframe tbody tr th {\n",
       "        vertical-align: top;\n",
       "    }\n",
       "\n",
       "    .dataframe thead th {\n",
       "        text-align: right;\n",
       "    }\n",
       "</style>\n",
       "<table border=\"1\" class=\"dataframe\">\n",
       "  <thead>\n",
       "    <tr style=\"text-align: right;\">\n",
       "      <th></th>\n",
       "      <th>Company Name</th>\n",
       "      <th>level</th>\n",
       "      <th>ZipCode</th>\n",
       "      <th>update_month</th>\n",
       "      <th>update_day</th>\n",
       "      <th>update_year</th>\n",
       "      <th>pct_to_target</th>\n",
       "    </tr>\n",
       "  </thead>\n",
       "  <tbody>\n",
       "    <tr>\n",
       "      <th>0</th>\n",
       "      <td>Abatz</td>\n",
       "      <td>diamond</td>\n",
       "      <td>14150</td>\n",
       "      <td>3</td>\n",
       "      <td>1</td>\n",
       "      <td>2019</td>\n",
       "      <td>100%</td>\n",
       "    </tr>\n",
       "    <tr>\n",
       "      <th>1</th>\n",
       "      <td>Agivu</td>\n",
       "      <td>silver</td>\n",
       "      <td>61354</td>\n",
       "      <td>3</td>\n",
       "      <td>1</td>\n",
       "      <td>2019</td>\n",
       "      <td>90%</td>\n",
       "    </tr>\n",
       "    <tr>\n",
       "      <th>2</th>\n",
       "      <td>Aibox</td>\n",
       "      <td>platinum</td>\n",
       "      <td>4442</td>\n",
       "      <td>3</td>\n",
       "      <td>1</td>\n",
       "      <td>2019</td>\n",
       "      <td>105%</td>\n",
       "    </tr>\n",
       "    <tr>\n",
       "      <th>3</th>\n",
       "      <td>Ailane</td>\n",
       "      <td>silver</td>\n",
       "      <td>78595</td>\n",
       "      <td>3</td>\n",
       "      <td>1</td>\n",
       "      <td>2019</td>\n",
       "      <td>60%</td>\n",
       "    </tr>\n",
       "    <tr>\n",
       "      <th>4</th>\n",
       "      <td>Aimbo</td>\n",
       "      <td>diamond</td>\n",
       "      <td>55447</td>\n",
       "      <td>3</td>\n",
       "      <td>1</td>\n",
       "      <td>2019</td>\n",
       "      <td>100%</td>\n",
       "    </tr>\n",
       "  </tbody>\n",
       "</table>\n",
       "</div>"
      ],
      "text/plain": [
       "  Company Name     level  ZipCode  update_month  update_day  update_year  \\\n",
       "0        Abatz   diamond    14150             3           1         2019   \n",
       "1        Agivu    silver    61354             3           1         2019   \n",
       "2        Aibox  platinum     4442             3           1         2019   \n",
       "3       Ailane    silver    78595             3           1         2019   \n",
       "4        Aimbo   diamond    55447             3           1         2019   \n",
       "\n",
       "  pct_to_target  \n",
       "0          100%  \n",
       "1           90%  \n",
       "2          105%  \n",
       "3           60%  \n",
       "4          100%  "
      ]
     },
     "execution_count": 11,
     "metadata": {},
     "output_type": "execute_result"
    }
   ],
   "source": [
    "df.head()"
   ]
  },
  {
   "cell_type": "markdown",
   "id": "57060b6a",
   "metadata": {},
   "source": [
    "## Converting Data Types"
   ]
  },
  {
   "cell_type": "markdown",
   "id": "b5cf8e3d",
   "metadata": {},
   "source": [
    "Use `parse_dates` to make a date out of columns 3,4 and 5"
   ]
  },
  {
   "cell_type": "code",
   "execution_count": 12,
   "id": "f386ab99",
   "metadata": {},
   "outputs": [],
   "source": [
    "df = pd.read_excel(input_file,\n",
    "                   engine='openpyxl',\n",
    "                   sheet_name='levels',\n",
    "                   header=2,\n",
    "                   usecols='A,C:H',\n",
    "                   parse_dates={'update_date':[3,4,5]})"
   ]
  },
  {
   "cell_type": "code",
   "execution_count": 13,
   "id": "d216723e",
   "metadata": {},
   "outputs": [
    {
     "data": {
      "text/html": [
       "<div>\n",
       "<style scoped>\n",
       "    .dataframe tbody tr th:only-of-type {\n",
       "        vertical-align: middle;\n",
       "    }\n",
       "\n",
       "    .dataframe tbody tr th {\n",
       "        vertical-align: top;\n",
       "    }\n",
       "\n",
       "    .dataframe thead th {\n",
       "        text-align: right;\n",
       "    }\n",
       "</style>\n",
       "<table border=\"1\" class=\"dataframe\">\n",
       "  <thead>\n",
       "    <tr style=\"text-align: right;\">\n",
       "      <th></th>\n",
       "      <th>update_date</th>\n",
       "      <th>Company Name</th>\n",
       "      <th>level</th>\n",
       "      <th>ZipCode</th>\n",
       "      <th>pct_to_target</th>\n",
       "    </tr>\n",
       "  </thead>\n",
       "  <tbody>\n",
       "    <tr>\n",
       "      <th>0</th>\n",
       "      <td>2019-03-01</td>\n",
       "      <td>Abatz</td>\n",
       "      <td>diamond</td>\n",
       "      <td>14150</td>\n",
       "      <td>100%</td>\n",
       "    </tr>\n",
       "    <tr>\n",
       "      <th>1</th>\n",
       "      <td>2019-03-01</td>\n",
       "      <td>Agivu</td>\n",
       "      <td>silver</td>\n",
       "      <td>61354</td>\n",
       "      <td>90%</td>\n",
       "    </tr>\n",
       "    <tr>\n",
       "      <th>2</th>\n",
       "      <td>2019-03-01</td>\n",
       "      <td>Aibox</td>\n",
       "      <td>platinum</td>\n",
       "      <td>4442</td>\n",
       "      <td>105%</td>\n",
       "    </tr>\n",
       "    <tr>\n",
       "      <th>3</th>\n",
       "      <td>2019-03-01</td>\n",
       "      <td>Ailane</td>\n",
       "      <td>silver</td>\n",
       "      <td>78595</td>\n",
       "      <td>60%</td>\n",
       "    </tr>\n",
       "    <tr>\n",
       "      <th>4</th>\n",
       "      <td>2019-03-01</td>\n",
       "      <td>Aimbo</td>\n",
       "      <td>diamond</td>\n",
       "      <td>55447</td>\n",
       "      <td>100%</td>\n",
       "    </tr>\n",
       "  </tbody>\n",
       "</table>\n",
       "</div>"
      ],
      "text/plain": [
       "  update_date Company Name     level  ZipCode pct_to_target\n",
       "0  2019-03-01        Abatz   diamond    14150          100%\n",
       "1  2019-03-01        Agivu    silver    61354           90%\n",
       "2  2019-03-01        Aibox  platinum     4442          105%\n",
       "3  2019-03-01       Ailane    silver    78595           60%\n",
       "4  2019-03-01        Aimbo   diamond    55447          100%"
      ]
     },
     "execution_count": 13,
     "metadata": {},
     "output_type": "execute_result"
    }
   ],
   "source": [
    "df.head()"
   ]
  },
  {
   "cell_type": "markdown",
   "id": "31054b89",
   "metadata": {},
   "source": [
    "Use `dtype` to preserve trailing zeroes (like using backtick in Excel for 413649692)"
   ]
  },
  {
   "cell_type": "code",
   "execution_count": 14,
   "id": "86fa9fed",
   "metadata": {},
   "outputs": [],
   "source": [
    "df = pd.read_excel(input_file,\n",
    "                   engine='openpyxl',\n",
    "                   sheet_name='levels',\n",
    "                   header=2,\n",
    "                   usecols='A,C:H',\n",
    "                   parse_dates={'update_date':[3,4,5]},\n",
    "                   dtype={'ZipCode':'object'})"
   ]
  },
  {
   "cell_type": "code",
   "execution_count": 15,
   "id": "6098a12b",
   "metadata": {
    "scrolled": true
   },
   "outputs": [
    {
     "data": {
      "text/html": [
       "<div>\n",
       "<style scoped>\n",
       "    .dataframe tbody tr th:only-of-type {\n",
       "        vertical-align: middle;\n",
       "    }\n",
       "\n",
       "    .dataframe tbody tr th {\n",
       "        vertical-align: top;\n",
       "    }\n",
       "\n",
       "    .dataframe thead th {\n",
       "        text-align: right;\n",
       "    }\n",
       "</style>\n",
       "<table border=\"1\" class=\"dataframe\">\n",
       "  <thead>\n",
       "    <tr style=\"text-align: right;\">\n",
       "      <th></th>\n",
       "      <th>update_date</th>\n",
       "      <th>Company Name</th>\n",
       "      <th>level</th>\n",
       "      <th>ZipCode</th>\n",
       "      <th>pct_to_target</th>\n",
       "    </tr>\n",
       "  </thead>\n",
       "  <tbody>\n",
       "    <tr>\n",
       "      <th>0</th>\n",
       "      <td>2019-03-01</td>\n",
       "      <td>Abatz</td>\n",
       "      <td>diamond</td>\n",
       "      <td>14150</td>\n",
       "      <td>100%</td>\n",
       "    </tr>\n",
       "    <tr>\n",
       "      <th>1</th>\n",
       "      <td>2019-03-01</td>\n",
       "      <td>Agivu</td>\n",
       "      <td>silver</td>\n",
       "      <td>61354</td>\n",
       "      <td>90%</td>\n",
       "    </tr>\n",
       "    <tr>\n",
       "      <th>2</th>\n",
       "      <td>2019-03-01</td>\n",
       "      <td>Aibox</td>\n",
       "      <td>platinum</td>\n",
       "      <td>04442</td>\n",
       "      <td>105%</td>\n",
       "    </tr>\n",
       "    <tr>\n",
       "      <th>3</th>\n",
       "      <td>2019-03-01</td>\n",
       "      <td>Ailane</td>\n",
       "      <td>silver</td>\n",
       "      <td>78595</td>\n",
       "      <td>60%</td>\n",
       "    </tr>\n",
       "    <tr>\n",
       "      <th>4</th>\n",
       "      <td>2019-03-01</td>\n",
       "      <td>Aimbo</td>\n",
       "      <td>diamond</td>\n",
       "      <td>55447</td>\n",
       "      <td>100%</td>\n",
       "    </tr>\n",
       "  </tbody>\n",
       "</table>\n",
       "</div>"
      ],
      "text/plain": [
       "  update_date Company Name     level ZipCode pct_to_target\n",
       "0  2019-03-01        Abatz   diamond   14150          100%\n",
       "1  2019-03-01        Agivu    silver   61354           90%\n",
       "2  2019-03-01        Aibox  platinum   04442          105%\n",
       "3  2019-03-01       Ailane    silver   78595           60%\n",
       "4  2019-03-01        Aimbo   diamond   55447          100%"
      ]
     },
     "execution_count": 15,
     "metadata": {},
     "output_type": "execute_result"
    }
   ],
   "source": [
    "df.head()"
   ]
  },
  {
   "cell_type": "markdown",
   "id": "69aa7abd",
   "metadata": {},
   "source": [
    "Percentages are still as string. To fix this, first write a function that converts percentage string (e.g. \"90%\") to the corresponding float (e.g. 0.9):"
   ]
  },
  {
   "cell_type": "code",
   "execution_count": 16,
   "id": "32895c3e",
   "metadata": {},
   "outputs": [],
   "source": [
    "def percent(a):\n",
    "    a = a.replace('%','')\n",
    "    return float(a)/100"
   ]
  },
  {
   "cell_type": "markdown",
   "id": "66262e07",
   "metadata": {},
   "source": [
    "Then, apply this function 'percent' to the target column (the target column only!)"
   ]
  },
  {
   "cell_type": "code",
   "execution_count": 17,
   "id": "62c66712",
   "metadata": {},
   "outputs": [],
   "source": [
    "df['pct_to_target']=df['pct_to_target'].apply(percent)"
   ]
  },
  {
   "cell_type": "code",
   "execution_count": 18,
   "id": "0d7e4291",
   "metadata": {},
   "outputs": [
    {
     "data": {
      "text/html": [
       "<div>\n",
       "<style scoped>\n",
       "    .dataframe tbody tr th:only-of-type {\n",
       "        vertical-align: middle;\n",
       "    }\n",
       "\n",
       "    .dataframe tbody tr th {\n",
       "        vertical-align: top;\n",
       "    }\n",
       "\n",
       "    .dataframe thead th {\n",
       "        text-align: right;\n",
       "    }\n",
       "</style>\n",
       "<table border=\"1\" class=\"dataframe\">\n",
       "  <thead>\n",
       "    <tr style=\"text-align: right;\">\n",
       "      <th></th>\n",
       "      <th>update_date</th>\n",
       "      <th>Company Name</th>\n",
       "      <th>level</th>\n",
       "      <th>ZipCode</th>\n",
       "      <th>pct_to_target</th>\n",
       "    </tr>\n",
       "  </thead>\n",
       "  <tbody>\n",
       "    <tr>\n",
       "      <th>0</th>\n",
       "      <td>2019-03-01</td>\n",
       "      <td>Abatz</td>\n",
       "      <td>diamond</td>\n",
       "      <td>14150</td>\n",
       "      <td>1.00</td>\n",
       "    </tr>\n",
       "    <tr>\n",
       "      <th>1</th>\n",
       "      <td>2019-03-01</td>\n",
       "      <td>Agivu</td>\n",
       "      <td>silver</td>\n",
       "      <td>61354</td>\n",
       "      <td>0.90</td>\n",
       "    </tr>\n",
       "    <tr>\n",
       "      <th>2</th>\n",
       "      <td>2019-03-01</td>\n",
       "      <td>Aibox</td>\n",
       "      <td>platinum</td>\n",
       "      <td>04442</td>\n",
       "      <td>1.05</td>\n",
       "    </tr>\n",
       "    <tr>\n",
       "      <th>3</th>\n",
       "      <td>2019-03-01</td>\n",
       "      <td>Ailane</td>\n",
       "      <td>silver</td>\n",
       "      <td>78595</td>\n",
       "      <td>0.60</td>\n",
       "    </tr>\n",
       "    <tr>\n",
       "      <th>4</th>\n",
       "      <td>2019-03-01</td>\n",
       "      <td>Aimbo</td>\n",
       "      <td>diamond</td>\n",
       "      <td>55447</td>\n",
       "      <td>1.00</td>\n",
       "    </tr>\n",
       "  </tbody>\n",
       "</table>\n",
       "</div>"
      ],
      "text/plain": [
       "  update_date Company Name     level ZipCode  pct_to_target\n",
       "0  2019-03-01        Abatz   diamond   14150           1.00\n",
       "1  2019-03-01        Agivu    silver   61354           0.90\n",
       "2  2019-03-01        Aibox  platinum   04442           1.05\n",
       "3  2019-03-01       Ailane    silver   78595           0.60\n",
       "4  2019-03-01        Aimbo   diamond   55447           1.00"
      ]
     },
     "execution_count": 18,
     "metadata": {},
     "output_type": "execute_result"
    }
   ],
   "source": [
    "df.head()"
   ]
  },
  {
   "cell_type": "markdown",
   "id": "0c94000f",
   "metadata": {},
   "source": [
    "*Alternatively*, add `converters={'pct_to_target':percent)` to the import arguments menu."
   ]
  },
  {
   "cell_type": "markdown",
   "id": "bd2fb96d",
   "metadata": {},
   "source": [
    "## Saving Dataframes to Excel"
   ]
  },
  {
   "cell_type": "code",
   "execution_count": 21,
   "id": "d72aaea3",
   "metadata": {},
   "outputs": [],
   "source": [
    "src_file = Path.cwd()/'data'/'raw'/'excel_complicated_document.xlsx'\n",
    "report_file = Path.cwd()/'reports'/'TPS_report.xlsx'"
   ]
  },
  {
   "cell_type": "code",
   "execution_count": 22,
   "id": "9524e5e0",
   "metadata": {},
   "outputs": [],
   "source": [
    "df_sale = pd.read_excel(src_file, sheet_name = 'sales data',usecols=('A:G'))"
   ]
  },
  {
   "cell_type": "code",
   "execution_count": 23,
   "id": "b4fa7739",
   "metadata": {},
   "outputs": [
    {
     "data": {
      "text/html": [
       "<div>\n",
       "<style scoped>\n",
       "    .dataframe tbody tr th:only-of-type {\n",
       "        vertical-align: middle;\n",
       "    }\n",
       "\n",
       "    .dataframe tbody tr th {\n",
       "        vertical-align: top;\n",
       "    }\n",
       "\n",
       "    .dataframe thead th {\n",
       "        text-align: right;\n",
       "    }\n",
       "</style>\n",
       "<table border=\"1\" class=\"dataframe\">\n",
       "  <thead>\n",
       "    <tr style=\"text-align: right;\">\n",
       "      <th></th>\n",
       "      <th>invoice</th>\n",
       "      <th>company</th>\n",
       "      <th>purchase_date</th>\n",
       "      <th>product</th>\n",
       "      <th>quantity</th>\n",
       "      <th>price</th>\n",
       "      <th>extended amount</th>\n",
       "    </tr>\n",
       "  </thead>\n",
       "  <tbody>\n",
       "    <tr>\n",
       "      <th>0</th>\n",
       "      <td>ZN-870-29</td>\n",
       "      <td>Realcube</td>\n",
       "      <td>2019-03-05</td>\n",
       "      <td>shirt</td>\n",
       "      <td>19</td>\n",
       "      <td>17</td>\n",
       "      <td>323</td>\n",
       "    </tr>\n",
       "    <tr>\n",
       "      <th>1</th>\n",
       "      <td>JQ-501-63</td>\n",
       "      <td>Zooxo</td>\n",
       "      <td>2019-07-09</td>\n",
       "      <td>book</td>\n",
       "      <td>30</td>\n",
       "      <td>14</td>\n",
       "      <td>420</td>\n",
       "    </tr>\n",
       "    <tr>\n",
       "      <th>2</th>\n",
       "      <td>FI-165-58</td>\n",
       "      <td>Dabtype</td>\n",
       "      <td>2019-08-12</td>\n",
       "      <td>poster</td>\n",
       "      <td>7</td>\n",
       "      <td>23</td>\n",
       "      <td>161</td>\n",
       "    </tr>\n",
       "    <tr>\n",
       "      <th>3</th>\n",
       "      <td>XP-005-55</td>\n",
       "      <td>Skipfire</td>\n",
       "      <td>2019-11-18</td>\n",
       "      <td>pen</td>\n",
       "      <td>7</td>\n",
       "      <td>29</td>\n",
       "      <td>203</td>\n",
       "    </tr>\n",
       "    <tr>\n",
       "      <th>4</th>\n",
       "      <td>NB-917-18</td>\n",
       "      <td>Bluezoom</td>\n",
       "      <td>2019-04-18</td>\n",
       "      <td>poster</td>\n",
       "      <td>36</td>\n",
       "      <td>19</td>\n",
       "      <td>684</td>\n",
       "    </tr>\n",
       "  </tbody>\n",
       "</table>\n",
       "</div>"
      ],
      "text/plain": [
       "     invoice   company purchase_date product  quantity  price  extended amount\n",
       "0  ZN-870-29  Realcube    2019-03-05   shirt        19     17              323\n",
       "1  JQ-501-63     Zooxo    2019-07-09    book        30     14              420\n",
       "2  FI-165-58   Dabtype    2019-08-12  poster         7     23              161\n",
       "3  XP-005-55  Skipfire    2019-11-18     pen         7     29              203\n",
       "4  NB-917-18  Bluezoom    2019-04-18  poster        36     19              684"
      ]
     },
     "execution_count": 23,
     "metadata": {},
     "output_type": "execute_result"
    }
   ],
   "source": [
    "df_sale.head()"
   ]
  },
  {
   "cell_type": "markdown",
   "id": "bbf7b0f3",
   "metadata": {},
   "source": [
    "Do a simple summary (in one line, how cool is that!):"
   ]
  },
  {
   "cell_type": "code",
   "execution_count": 27,
   "id": "0fa1b234",
   "metadata": {},
   "outputs": [],
   "source": [
    "sales_summary = df_sale.groupby(['company','product']).agg({'extended amount':sum})"
   ]
  },
  {
   "cell_type": "code",
   "execution_count": 28,
   "id": "9a09ce81",
   "metadata": {},
   "outputs": [
    {
     "data": {
      "text/html": [
       "<div>\n",
       "<style scoped>\n",
       "    .dataframe tbody tr th:only-of-type {\n",
       "        vertical-align: middle;\n",
       "    }\n",
       "\n",
       "    .dataframe tbody tr th {\n",
       "        vertical-align: top;\n",
       "    }\n",
       "\n",
       "    .dataframe thead th {\n",
       "        text-align: right;\n",
       "    }\n",
       "</style>\n",
       "<table border=\"1\" class=\"dataframe\">\n",
       "  <thead>\n",
       "    <tr style=\"text-align: right;\">\n",
       "      <th></th>\n",
       "      <th></th>\n",
       "      <th>extended amount</th>\n",
       "    </tr>\n",
       "    <tr>\n",
       "      <th>company</th>\n",
       "      <th>product</th>\n",
       "      <th></th>\n",
       "    </tr>\n",
       "  </thead>\n",
       "  <tbody>\n",
       "    <tr>\n",
       "      <th rowspan=\"3\" valign=\"top\">Abatz</th>\n",
       "      <th>book</th>\n",
       "      <td>2063</td>\n",
       "    </tr>\n",
       "    <tr>\n",
       "      <th>pen</th>\n",
       "      <td>140</td>\n",
       "    </tr>\n",
       "    <tr>\n",
       "      <th>poster</th>\n",
       "      <td>1248</td>\n",
       "    </tr>\n",
       "    <tr>\n",
       "      <th rowspan=\"2\" valign=\"top\">Agivu</th>\n",
       "      <th>book</th>\n",
       "      <td>385</td>\n",
       "    </tr>\n",
       "    <tr>\n",
       "      <th>shirt</th>\n",
       "      <td>700</td>\n",
       "    </tr>\n",
       "  </tbody>\n",
       "</table>\n",
       "</div>"
      ],
      "text/plain": [
       "                 extended amount\n",
       "company product                 \n",
       "Abatz   book                2063\n",
       "        pen                  140\n",
       "        poster              1248\n",
       "Agivu   book                 385\n",
       "        shirt                700"
      ]
     },
     "execution_count": 28,
     "metadata": {},
     "output_type": "execute_result"
    }
   ],
   "source": [
    "sales_summary.head()"
   ]
  },
  {
   "cell_type": "markdown",
   "id": "c0a2f03a",
   "metadata": {},
   "source": [
    "How about another summary, this time a global summary of amounts and prices:"
   ]
  },
  {
   "cell_type": "code",
   "execution_count": 30,
   "id": "a554edee",
   "metadata": {},
   "outputs": [],
   "source": [
    "sales_avg = df_sale.agg({'extended amount':['sum','mean'], 'price':['mean']})"
   ]
  },
  {
   "cell_type": "code",
   "execution_count": 31,
   "id": "ccf2e29c",
   "metadata": {},
   "outputs": [
    {
     "data": {
      "text/html": [
       "<div>\n",
       "<style scoped>\n",
       "    .dataframe tbody tr th:only-of-type {\n",
       "        vertical-align: middle;\n",
       "    }\n",
       "\n",
       "    .dataframe tbody tr th {\n",
       "        vertical-align: top;\n",
       "    }\n",
       "\n",
       "    .dataframe thead th {\n",
       "        text-align: right;\n",
       "    }\n",
       "</style>\n",
       "<table border=\"1\" class=\"dataframe\">\n",
       "  <thead>\n",
       "    <tr style=\"text-align: right;\">\n",
       "      <th></th>\n",
       "      <th>extended amount</th>\n",
       "      <th>price</th>\n",
       "    </tr>\n",
       "  </thead>\n",
       "  <tbody>\n",
       "    <tr>\n",
       "      <th>sum</th>\n",
       "      <td>510270.00</td>\n",
       "      <td>NaN</td>\n",
       "    </tr>\n",
       "    <tr>\n",
       "      <th>mean</th>\n",
       "      <td>510.27</td>\n",
       "      <td>22.816</td>\n",
       "    </tr>\n",
       "  </tbody>\n",
       "</table>\n",
       "</div>"
      ],
      "text/plain": [
       "      extended amount   price\n",
       "sum         510270.00     NaN\n",
       "mean           510.27  22.816"
      ]
     },
     "execution_count": 31,
     "metadata": {},
     "output_type": "execute_result"
    }
   ],
   "source": [
    "sales_avg"
   ]
  },
  {
   "cell_type": "markdown",
   "id": "f6af2704",
   "metadata": {},
   "source": [
    "It doesn't make sense to add up all the prices, so fill that `Nan` with 'Not Applicable':"
   ]
  },
  {
   "cell_type": "code",
   "execution_count": 32,
   "id": "79f44f98",
   "metadata": {},
   "outputs": [],
   "source": [
    "sales_avg = df_sale.agg({'extended amount':['sum','mean'], 'price':['mean']}).fillna('NOT APPLICABLE')"
   ]
  },
  {
   "cell_type": "code",
   "execution_count": 33,
   "id": "59e38cdf",
   "metadata": {},
   "outputs": [
    {
     "data": {
      "text/html": [
       "<div>\n",
       "<style scoped>\n",
       "    .dataframe tbody tr th:only-of-type {\n",
       "        vertical-align: middle;\n",
       "    }\n",
       "\n",
       "    .dataframe tbody tr th {\n",
       "        vertical-align: top;\n",
       "    }\n",
       "\n",
       "    .dataframe thead th {\n",
       "        text-align: right;\n",
       "    }\n",
       "</style>\n",
       "<table border=\"1\" class=\"dataframe\">\n",
       "  <thead>\n",
       "    <tr style=\"text-align: right;\">\n",
       "      <th></th>\n",
       "      <th>extended amount</th>\n",
       "      <th>price</th>\n",
       "    </tr>\n",
       "  </thead>\n",
       "  <tbody>\n",
       "    <tr>\n",
       "      <th>sum</th>\n",
       "      <td>510270.00</td>\n",
       "      <td>NOT APPLICABLE</td>\n",
       "    </tr>\n",
       "    <tr>\n",
       "      <th>mean</th>\n",
       "      <td>510.27</td>\n",
       "      <td>22.816</td>\n",
       "    </tr>\n",
       "  </tbody>\n",
       "</table>\n",
       "</div>"
      ],
      "text/plain": [
       "      extended amount           price\n",
       "sum         510270.00  NOT APPLICABLE\n",
       "mean           510.27          22.816"
      ]
     },
     "execution_count": 33,
     "metadata": {},
     "output_type": "execute_result"
    }
   ],
   "source": [
    "sales_avg"
   ]
  },
  {
   "cell_type": "markdown",
   "id": "504cd85a",
   "metadata": {},
   "source": [
    "We can't get enough of data summaries, how about another one, this time a global summary of the products themselves:"
   ]
  },
  {
   "cell_type": "code",
   "execution_count": 34,
   "id": "a929f686",
   "metadata": {},
   "outputs": [],
   "source": [
    "product_summary = pd.pivot_table(data = df_sale,\n",
    "                                 index = ['product'],\n",
    "                                 values = ['extended amount'],\n",
    "                                 aggfunc = ['sum','mean','count'])"
   ]
  },
  {
   "cell_type": "code",
   "execution_count": 35,
   "id": "b7ed1581",
   "metadata": {},
   "outputs": [
    {
     "data": {
      "text/html": [
       "<div>\n",
       "<style scoped>\n",
       "    .dataframe tbody tr th:only-of-type {\n",
       "        vertical-align: middle;\n",
       "    }\n",
       "\n",
       "    .dataframe tbody tr th {\n",
       "        vertical-align: top;\n",
       "    }\n",
       "\n",
       "    .dataframe thead tr th {\n",
       "        text-align: left;\n",
       "    }\n",
       "\n",
       "    .dataframe thead tr:last-of-type th {\n",
       "        text-align: right;\n",
       "    }\n",
       "</style>\n",
       "<table border=\"1\" class=\"dataframe\">\n",
       "  <thead>\n",
       "    <tr>\n",
       "      <th></th>\n",
       "      <th>sum</th>\n",
       "      <th>mean</th>\n",
       "      <th>count</th>\n",
       "    </tr>\n",
       "    <tr>\n",
       "      <th></th>\n",
       "      <th>extended amount</th>\n",
       "      <th>extended amount</th>\n",
       "      <th>extended amount</th>\n",
       "    </tr>\n",
       "    <tr>\n",
       "      <th>product</th>\n",
       "      <th></th>\n",
       "      <th></th>\n",
       "      <th></th>\n",
       "    </tr>\n",
       "  </thead>\n",
       "  <tbody>\n",
       "    <tr>\n",
       "      <th>book</th>\n",
       "      <td>118356</td>\n",
       "      <td>505.794872</td>\n",
       "      <td>234</td>\n",
       "    </tr>\n",
       "    <tr>\n",
       "      <th>pen</th>\n",
       "      <td>115017</td>\n",
       "      <td>508.924779</td>\n",
       "      <td>226</td>\n",
       "    </tr>\n",
       "    <tr>\n",
       "      <th>poster</th>\n",
       "      <td>139008</td>\n",
       "      <td>516.758364</td>\n",
       "      <td>269</td>\n",
       "    </tr>\n",
       "    <tr>\n",
       "      <th>shirt</th>\n",
       "      <td>137889</td>\n",
       "      <td>508.815498</td>\n",
       "      <td>271</td>\n",
       "    </tr>\n",
       "  </tbody>\n",
       "</table>\n",
       "</div>"
      ],
      "text/plain": [
       "                    sum            mean           count\n",
       "        extended amount extended amount extended amount\n",
       "product                                                \n",
       "book             118356      505.794872             234\n",
       "pen              115017      508.924779             226\n",
       "poster           139008      516.758364             269\n",
       "shirt            137889      508.815498             271"
      ]
     },
     "execution_count": 35,
     "metadata": {},
     "output_type": "execute_result"
    }
   ],
   "source": [
    "product_summary"
   ]
  },
  {
   "cell_type": "markdown",
   "id": "825b1998",
   "metadata": {},
   "source": [
    "Now we're ready to export to Excel. Start with a simple write of the first summary that we did (sales summary):"
   ]
  },
  {
   "cell_type": "code",
   "execution_count": 36,
   "id": "4939d738",
   "metadata": {},
   "outputs": [],
   "source": [
    "sales_summary.to_excel(report_file)"
   ]
  },
  {
   "cell_type": "code",
   "execution_count": null,
   "id": "54770d2f",
   "metadata": {},
   "outputs": [],
   "source": []
  }
 ],
 "metadata": {
  "kernelspec": {
   "display_name": "Python 3",
   "language": "python",
   "name": "python3"
  },
  "language_info": {
   "codemirror_mode": {
    "name": "ipython",
    "version": 3
   },
   "file_extension": ".py",
   "mimetype": "text/x-python",
   "name": "python",
   "nbconvert_exporter": "python",
   "pygments_lexer": "ipython3",
   "version": "3.9.4"
  }
 },
 "nbformat": 4,
 "nbformat_minor": 5
}
